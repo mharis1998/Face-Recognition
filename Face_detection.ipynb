{
 "cells": [
  {
   "cell_type": "code",
   "execution_count": 1,
   "id": "db15a70f",
   "metadata": {},
   "outputs": [],
   "source": [
    "# import the necessary packages\n",
    "from imutils.video import VideoStream\n",
    "import face_recognition\n",
    "import argparse\n",
    "import imutils\n",
    "import pickle\n",
    "import time\n",
    "import cv2"
   ]
  },
  {
   "cell_type": "code",
   "execution_count": 4,
   "id": "841f3cd4",
   "metadata": {},
   "outputs": [],
   "source": [
    "vs = cv2.VideoCapture(0)\n",
    "vs.set(cv2.CAP_PROP_BRIGHTNESS,1000)\n",
    "vs.set(28, 0)\n",
    "writer = None\n",
    "time.sleep(2.0)"
   ]
  },
  {
   "cell_type": "code",
   "execution_count": 5,
   "id": "99818328",
   "metadata": {},
   "outputs": [],
   "source": [
    "# loop over frames from the video file stream\n",
    "while True:\n",
    "\t# grab the frame from the threaded video stream\n",
    "\treturn_value, frame = vs.read()\n",
    "\t# convert the input frame from BGR to RGB then resize it to have\n",
    "\t# a width of 750px (to speedup processing)\n",
    "\trgb = cv2.cvtColor(frame, cv2.COLOR_BGR2RGB)\n",
    "\t#rgb = imutils.resize(frame, width=750)\n",
    "\tr = frame.shape[1] / float(rgb.shape[1])\n",
    "\t# detect the (x, y)-coordinates of the bounding boxes\n",
    "\t# corresponding to each face in the input frame, then compute\n",
    "\t# the facial embeddings for each face\n",
    "\tboxes = face_recognition.face_locations(rgb,\n",
    "\t\tmodel=\"hog\")\n",
    "\t# loop over the recognized faces\n",
    "\tfor (top, right, bottom, left) in boxes:\n",
    "\t\t# rescale the face coordinates\n",
    "\t\ttop = int(top * r)\n",
    "\t\tright = int(right * r)\n",
    "\t\tbottom = int(bottom * r)\n",
    "\t\tleft = int(left * r)\n",
    "\t\t# draw the predicted face name on the image\n",
    "\t\tcv2.rectangle(frame, (left, top), (right, bottom),\n",
    "\t\t\t(0, 255, 0), 2)\n",
    "\t\ty = top - 15 if top - 15 > 15 else top + 15\n",
    "\t\t#cv2.putText(frame, name, (left, y), cv2.FONT_HERSHEY_SIMPLEX,\n",
    "\t\t\t#0.75, (0, 255, 0), 2)\n",
    "\tcv2.imshow(\"Frame\", frame)\n",
    "\tkey = cv2.waitKey(1) & 0xFF\n",
    "\t# if the `q` key was pressed, break from the loop\n",
    "\tif key == ord(\"q\"):\n",
    "\t\tbreak\n",
    "vs.release()\n",
    "cv2.destroyAllWindows()"
   ]
  },
  {
   "cell_type": "code",
   "execution_count": null,
   "id": "729b084a",
   "metadata": {},
   "outputs": [],
   "source": []
  }
 ],
 "metadata": {
  "kernelspec": {
   "display_name": "Python 3",
   "language": "python",
   "name": "python3"
  },
  "language_info": {
   "codemirror_mode": {
    "name": "ipython",
    "version": 3
   },
   "file_extension": ".py",
   "mimetype": "text/x-python",
   "name": "python",
   "nbconvert_exporter": "python",
   "pygments_lexer": "ipython3",
   "version": "3.6.13"
  }
 },
 "nbformat": 4,
 "nbformat_minor": 5
}
