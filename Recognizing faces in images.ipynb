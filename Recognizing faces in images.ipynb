{
 "cells": [
  {
   "cell_type": "code",
   "execution_count": 23,
   "id": "55c49c73",
   "metadata": {},
   "outputs": [],
   "source": [
    "# import the necessary packages\n",
    "import face_recognition\n",
    "import argparse\n",
    "import pickle\n",
    "import cv2"
   ]
  },
  {
   "cell_type": "code",
   "execution_count": 21,
   "id": "0d4fbda5",
   "metadata": {},
   "outputs": [],
   "source": [
    "# load the known faces and embeddings\n",
    "print(\"[INFO] loading encodings...\")\n",
    "data = pickle.loads(open(\"encoding.pickle\", \"rb\").read())\n",
    "# load the input image and convert it from BGR to RGB\n",
    "image = cv2.imread(args[\"image\"])\n",
    "rgb = cv2.cvtColor(image, cv2.COLOR_BGR2RGB)\n",
    "# detect the (x, y)-coordinates of the bounding boxes corresponding\n",
    "# to each face in the input image, then compute the facial embeddings\n",
    "# for each face\n",
    "print(\"[INFO] recognizing faces...\")\n",
    "boxes = face_recognition.face_locations(rgb,\n",
    "\tmodel=\"hog\")\n",
    "encodings = face_recognition.face_encodings(rgb, boxes)\n",
    "# initialize the list of names for each face detected\n",
    "names = []"
   ]
  },
  {
   "cell_type": "code",
   "execution_count": 22,
   "id": "a182bc87",
   "metadata": {},
   "outputs": [
    {
     "name": "stdout",
     "output_type": "stream",
     "text": [
      "output\n"
     ]
    }
   ],
   "source": [
    "# loop over the facial embeddings\n",
    "for encoding in encodings:\n",
    "\t# attempt to match each face in the input image to our known\n",
    "\t# encodings\n",
    "\tmatches = face_recognition.compare_faces(data[\"encodings\"],\n",
    "\t\tencoding)\n",
    "\tname = \"Unknown\""
   ]
  },
  {
   "cell_type": "code",
   "execution_count": null,
   "id": "052dfd15",
   "metadata": {},
   "outputs": [],
   "source": [
    "\t# check to see if we have found a match\n",
    "\tif True in matches:\n",
    "\t\t# find the indexes of all matched faces then initialize a\n",
    "\t\t# dictionary to count the total number of times each face\n",
    "\t\t# was matched\n",
    "\t\tmatchedIdxs = [i for (i, b) in enumerate(matches) if b]\n",
    "\t\tcounts = {}\n",
    "\t\t# loop over the matched indexes and maintain a count for\n",
    "\t\t# each recognized face face\n",
    "\t\tfor i in matchedIdxs:\n",
    "\t\t\tname = data[\"names\"][i]\n",
    "\t\t\tcounts[name] = counts.get(name, 0) + 1\n",
    "\t\t# determine the recognized face with the largest number of\n",
    "\t\t# votes (note: in the event of an unlikely tie Python will\n",
    "\t\t# select first entry in the dictionary)\n",
    "\t\tname = max(counts, key=counts.get)\n",
    "\t\n",
    "\t# update the list of names\n",
    "\tnames.append(name)"
   ]
  },
  {
   "cell_type": "code",
   "execution_count": null,
   "id": "abe94a4e",
   "metadata": {},
   "outputs": [],
   "source": [
    "# loop over the recognized faces\n",
    "for ((top, right, bottom, left), name) in zip(boxes, names):\n",
    "\t# draw the predicted face name on the image\n",
    "\tcv2.rectangle(image, (left, top), (right, bottom), (0, 255, 0), 2)\n",
    "\ty = top - 15 if top - 15 > 15 else top + 15\n",
    "\tcv2.putText(image, name, (left, y), cv2.FONT_HERSHEY_SIMPLEX,\n",
    "\t\t0.75, (0, 255, 0), 2)\n",
    "# show the output image\n",
    "cv2.imshow(\"Image\", image)\n",
    "cv2.waitKey(0)"
   ]
  }
 ],
 "metadata": {
  "kernelspec": {
   "display_name": "Python 3",
   "language": "python",
   "name": "python3"
  },
  "language_info": {
   "codemirror_mode": {
    "name": "ipython",
    "version": 3
   },
   "file_extension": ".py",
   "mimetype": "text/x-python",
   "name": "python",
   "nbconvert_exporter": "python",
   "pygments_lexer": "ipython3",
   "version": "3.6.13"
  }
 },
 "nbformat": 4,
 "nbformat_minor": 5
}
