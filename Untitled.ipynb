{
 "cells": [
  {
   "cell_type": "code",
   "execution_count": 1,
   "id": "30006cc9",
   "metadata": {},
   "outputs": [],
   "source": [
    "languages = ['Java', 'Python', 'JavaScript']\n",
    "versions = [14, 3, 6]"
   ]
  },
  {
   "cell_type": "code",
   "execution_count": 5,
   "id": "4d7d2c52",
   "metadata": {},
   "outputs": [
    {
     "name": "stdout",
     "output_type": "stream",
     "text": [
      "Java 14\n",
      "Python 3\n",
      "JavaScript 6\n"
     ]
    }
   ],
   "source": [
    "for l,v in zip(languages,versions):\n",
    "    print(l,v)"
   ]
  },
  {
   "cell_type": "code",
   "execution_count": null,
   "id": "a93e420e",
   "metadata": {},
   "outputs": [],
   "source": []
  }
 ],
 "metadata": {
  "kernelspec": {
   "display_name": "Python 3",
   "language": "python",
   "name": "python3"
  },
  "language_info": {
   "codemirror_mode": {
    "name": "ipython",
    "version": 3
   },
   "file_extension": ".py",
   "mimetype": "text/x-python",
   "name": "python",
   "nbconvert_exporter": "python",
   "pygments_lexer": "ipython3",
   "version": "3.6.13"
  }
 },
 "nbformat": 4,
 "nbformat_minor": 5
}
