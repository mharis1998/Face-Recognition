{
 "cells": [
  {
   "cell_type": "code",
   "execution_count": 8,
   "id": "847b9b39-016d-4e26-a1e4-268f1cdf8406",
   "metadata": {},
   "outputs": [],
   "source": [
    "import cv2\n",
    "from time import sleep \n",
    "\n",
    "camera = cv2.VideoCapture(0)\n",
    "camera.set(cv2.CAP_PROP_BRIGHTNESS,1000)\n",
    "camera.set(28, 0)\n",
    "sleep(5)\n",
    "for i in range(100):\n",
    "    return_value, image = camera.read()\n",
    "    cv2.imshow('neg',image)\n",
    "    cv2.imwrite('Haris/Haris'+str(i)+'.jpg', image)\n",
    "    cv2.waitKey(50)\n",
    "    cv2.destroyWindow(\"neg\")\n",
    "del(camera)"
   ]
  },
  {
   "cell_type": "code",
   "execution_count": 8,
   "id": "77d48b86-e663-4506-81b5-dfaa350e2812",
   "metadata": {},
   "outputs": [],
   "source": [
    "import cv2\n",
    "cam_port = 0\n",
    "cam = cv2.VideoCapture(0)\n",
    "  \n",
    "# reading the input using the camera\n",
    "result, image = cam.read()\n",
    "  \n",
    "# If image will detected without any error, \n",
    "# show result\n",
    "if result:\n",
    "  \n",
    "    # showing result, it take frame name and image \n",
    "    # output\n",
    "    cv2.imshow(\"GeeksForGeeks\", image)\n",
    "  \n",
    "    # saving image in local storage\n",
    "    cv2.imwrite(\"GeeksForGeeks.png\", image)\n",
    "  \n",
    "    # If keyboard interrupt occurs, destroy image \n",
    "    # window\n",
    "    cv2.waitKey(5)\n",
    "    cv2.destroyWindow(\"GeeksForGeeks\")\n",
    "  \n",
    "# If captured image is corrupted, moving to else part\n",
    "else:\n",
    "    print(\"No image detected. Please! try again\")"
   ]
  },
  {
   "cell_type": "code",
   "execution_count": 10,
   "id": "ea45c48d-6e59-4d5d-8cc6-cdf412e11dae",
   "metadata": {},
   "outputs": [
    {
     "ename": "ModuleNotFoundError",
     "evalue": "No module named 'pseyepy'",
     "output_type": "error",
     "traceback": [
      "\u001b[1;31m---------------------------------------------------------------------------\u001b[0m",
      "\u001b[1;31mModuleNotFoundError\u001b[0m                       Traceback (most recent call last)",
      "\u001b[1;32m~\\AppData\\Local\\Temp/ipykernel_13308/2774229818.py\u001b[0m in \u001b[0;36m<module>\u001b[1;34m\u001b[0m\n\u001b[1;32m----> 1\u001b[1;33m \u001b[1;32mfrom\u001b[0m \u001b[0mpseyepy\u001b[0m \u001b[1;32mimport\u001b[0m \u001b[0mCamera\u001b[0m\u001b[1;33m\u001b[0m\u001b[1;33m\u001b[0m\u001b[0m\n\u001b[0m",
      "\u001b[1;31mModuleNotFoundError\u001b[0m: No module named 'pseyepy'"
     ]
    }
   ],
   "source": [
    "from pseyepy import Camera"
   ]
  },
  {
   "cell_type": "code",
   "execution_count": null,
   "id": "c780ed49",
   "metadata": {},
   "outputs": [],
   "source": []
  }
 ],
 "metadata": {
  "kernelspec": {
   "display_name": "Python 3",
   "language": "python",
   "name": "python3"
  },
  "language_info": {
   "codemirror_mode": {
    "name": "ipython",
    "version": 3
   },
   "file_extension": ".py",
   "mimetype": "text/x-python",
   "name": "python",
   "nbconvert_exporter": "python",
   "pygments_lexer": "ipython3",
   "version": "3.6.13"
  }
 },
 "nbformat": 4,
 "nbformat_minor": 5
}
